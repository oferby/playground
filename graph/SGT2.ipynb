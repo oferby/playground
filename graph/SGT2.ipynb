{
 "cells": [
  {
   "cell_type": "markdown",
   "id": "4fc4a17e",
   "metadata": {},
   "source": [
    "# Spectral Graph Theory"
   ]
  },
  {
   "cell_type": "code",
   "execution_count": 1,
   "id": "38c60390",
   "metadata": {},
   "outputs": [],
   "source": [
    "import numpy as np\n",
    "import matplotlib.pyplot as plt"
   ]
  },
  {
   "cell_type": "code",
   "execution_count": 2,
   "id": "ee73623e",
   "metadata": {},
   "outputs": [],
   "source": [
    "M = np.array([[0,1,1,1,0,0,0],[1,0,1,1,1,0,0],[1,1,0,1,0,0,0],[1,1,1,0,0,1,0],[0,1,0,0,0,1,1],[0,0,0,1,1,0,1],[0,0,0,0,1,1,0]])"
   ]
  },
  {
   "cell_type": "code",
   "execution_count": 3,
   "id": "37cb379d",
   "metadata": {
    "scrolled": true
   },
   "outputs": [
    {
     "data": {
      "text/plain": [
       "array([[0, 1, 1, 1, 0, 0, 0],\n",
       "       [1, 0, 1, 1, 1, 0, 0],\n",
       "       [1, 1, 0, 1, 0, 0, 0],\n",
       "       [1, 1, 1, 0, 0, 1, 0],\n",
       "       [0, 1, 0, 0, 0, 1, 1],\n",
       "       [0, 0, 0, 1, 1, 0, 1],\n",
       "       [0, 0, 0, 0, 1, 1, 0]])"
      ]
     },
     "execution_count": 3,
     "metadata": {},
     "output_type": "execute_result"
    }
   ],
   "source": [
    "M"
   ]
  },
  {
   "cell_type": "markdown",
   "id": "03ce0fe7",
   "metadata": {},
   "source": [
    "<b>Diffusion Operator</b>"
   ]
  },
  {
   "cell_type": "code",
   "execution_count": 4,
   "id": "e96b6e79",
   "metadata": {},
   "outputs": [
    {
     "data": {
      "text/plain": [
       "array([1., 1., 1., 1., 1., 1., 1.])"
      ]
     },
     "execution_count": 4,
     "metadata": {},
     "output_type": "execute_result"
    }
   ],
   "source": [
    "x = np.ones(7)\n",
    "x"
   ]
  },
  {
   "cell_type": "code",
   "execution_count": 5,
   "id": "716028d6",
   "metadata": {},
   "outputs": [
    {
     "data": {
      "text/plain": [
       "array([3., 4., 3., 4., 3., 3., 2.])"
      ]
     },
     "execution_count": 5,
     "metadata": {},
     "output_type": "execute_result"
    }
   ],
   "source": [
    "# deg(i)\n",
    "d = M.dot(x)\n",
    "d"
   ]
  },
  {
   "cell_type": "code",
   "execution_count": 6,
   "id": "50a05b6f",
   "metadata": {},
   "outputs": [],
   "source": [
    "I = np.eye(7)"
   ]
  },
  {
   "cell_type": "code",
   "execution_count": 7,
   "id": "4140d94f",
   "metadata": {},
   "outputs": [
    {
     "data": {
      "text/plain": [
       "array([[3., 0., 0., 0., 0., 0., 0.],\n",
       "       [0., 4., 0., 0., 0., 0., 0.],\n",
       "       [0., 0., 3., 0., 0., 0., 0.],\n",
       "       [0., 0., 0., 4., 0., 0., 0.],\n",
       "       [0., 0., 0., 0., 3., 0., 0.],\n",
       "       [0., 0., 0., 0., 0., 3., 0.],\n",
       "       [0., 0., 0., 0., 0., 0., 2.]])"
      ]
     },
     "execution_count": 7,
     "metadata": {},
     "output_type": "execute_result"
    }
   ],
   "source": [
    "D = d * I\n",
    "D"
   ]
  },
  {
   "cell_type": "code",
   "execution_count": 8,
   "id": "edaa68d3",
   "metadata": {},
   "outputs": [
    {
     "data": {
      "text/plain": [
       "array([[0.33333333, 0.        , 0.        , 0.        , 0.        ,\n",
       "        0.        , 0.        ],\n",
       "       [0.        , 0.25      , 0.        , 0.        , 0.        ,\n",
       "        0.        , 0.        ],\n",
       "       [0.        , 0.        , 0.33333333, 0.        , 0.        ,\n",
       "        0.        , 0.        ],\n",
       "       [0.        , 0.        , 0.        , 0.25      , 0.        ,\n",
       "        0.        , 0.        ],\n",
       "       [0.        , 0.        , 0.        , 0.        , 0.33333333,\n",
       "        0.        , 0.        ],\n",
       "       [0.        , 0.        , 0.        , 0.        , 0.        ,\n",
       "        0.33333333, 0.        ],\n",
       "       [0.        , 0.        , 0.        , 0.        , 0.        ,\n",
       "        0.        , 0.5       ]])"
      ]
     },
     "execution_count": 8,
     "metadata": {},
     "output_type": "execute_result"
    }
   ],
   "source": [
    "D_inv = np.linalg.inv(D)\n",
    "D_inv"
   ]
  },
  {
   "cell_type": "code",
   "execution_count": 9,
   "id": "fa2785f1",
   "metadata": {},
   "outputs": [
    {
     "data": {
      "text/plain": [
       "array([[1., 0., 0., 0., 0., 0., 0.],\n",
       "       [0., 1., 0., 0., 0., 0., 0.],\n",
       "       [0., 0., 1., 0., 0., 0., 0.],\n",
       "       [0., 0., 0., 1., 0., 0., 0.],\n",
       "       [0., 0., 0., 0., 1., 0., 0.],\n",
       "       [0., 0., 0., 0., 0., 1., 0.],\n",
       "       [0., 0., 0., 0., 0., 0., 1.]])"
      ]
     },
     "execution_count": 9,
     "metadata": {},
     "output_type": "execute_result"
    }
   ],
   "source": [
    "D.dot(D_inv)"
   ]
  },
  {
   "cell_type": "code",
   "execution_count": 10,
   "id": "ccea936c",
   "metadata": {},
   "outputs": [
    {
     "data": {
      "text/plain": [
       "array([[0.        , 0.25      , 0.33333333, 0.25      , 0.        ,\n",
       "        0.        , 0.        ],\n",
       "       [0.33333333, 0.        , 0.33333333, 0.25      , 0.33333333,\n",
       "        0.        , 0.        ],\n",
       "       [0.33333333, 0.25      , 0.        , 0.25      , 0.        ,\n",
       "        0.        , 0.        ],\n",
       "       [0.33333333, 0.25      , 0.33333333, 0.        , 0.        ,\n",
       "        0.33333333, 0.        ],\n",
       "       [0.        , 0.25      , 0.        , 0.        , 0.        ,\n",
       "        0.33333333, 0.5       ],\n",
       "       [0.        , 0.        , 0.        , 0.25      , 0.33333333,\n",
       "        0.        , 0.5       ],\n",
       "       [0.        , 0.        , 0.        , 0.        , 0.33333333,\n",
       "        0.33333333, 0.        ]])"
      ]
     },
     "execution_count": 10,
     "metadata": {},
     "output_type": "execute_result"
    }
   ],
   "source": [
    "W = M.dot(D_inv)\n",
    "W"
   ]
  },
  {
   "cell_type": "code",
   "execution_count": 11,
   "id": "0b3cc2f1",
   "metadata": {},
   "outputs": [
    {
     "data": {
      "text/plain": [
       "array([1, 0, 0, 0, 0, 0, 0])"
      ]
     },
     "execution_count": 11,
     "metadata": {},
     "output_type": "execute_result"
    }
   ],
   "source": [
    "p = np.array([1,0,0,0,0,0,0])\n",
    "p"
   ]
  },
  {
   "cell_type": "code",
   "execution_count": 12,
   "id": "0e37cd8c",
   "metadata": {},
   "outputs": [
    {
     "data": {
      "text/plain": [
       "array([0.        , 0.33333333, 0.33333333, 0.33333333, 0.        ,\n",
       "       0.        , 0.        ])"
      ]
     },
     "execution_count": 12,
     "metadata": {},
     "output_type": "execute_result"
    }
   ],
   "source": [
    "W.dot(p)"
   ]
  },
  {
   "cell_type": "code",
   "execution_count": 13,
   "id": "9df0151b",
   "metadata": {},
   "outputs": [
    {
     "data": {
      "text/plain": [
       "array([[0.83333333, 0.58333333, 0.5       , 0.58333333, 0.25      ,\n",
       "        0.25      , 0.        ],\n",
       "       [0.58333333, 1.25      , 0.58333333, 0.66666667, 0.        ,\n",
       "        0.58333333, 0.33333333],\n",
       "       [0.5       , 0.58333333, 0.83333333, 0.58333333, 0.25      ,\n",
       "        0.25      , 0.        ],\n",
       "       [0.58333333, 0.66666667, 0.58333333, 1.25      , 0.58333333,\n",
       "        0.        , 0.33333333],\n",
       "       [0.25      , 0.        , 0.25      , 0.58333333, 1.08333333,\n",
       "        0.5       , 0.33333333],\n",
       "       [0.25      , 0.58333333, 0.25      , 0.        , 0.5       ,\n",
       "        1.08333333, 0.33333333],\n",
       "       [0.        , 0.33333333, 0.        , 0.33333333, 0.33333333,\n",
       "        0.33333333, 0.66666667]])"
      ]
     },
     "execution_count": 13,
     "metadata": {},
     "output_type": "execute_result"
    }
   ],
   "source": [
    "W1 = W.dot(M)\n",
    "W1"
   ]
  },
  {
   "cell_type": "code",
   "execution_count": 14,
   "id": "395e13dc",
   "metadata": {},
   "outputs": [
    {
     "data": {
      "text/plain": [
       "array([[1.75      , 2.04166667, 1.63888889, 2.04166667, 1.06944444,\n",
       "        1.06944444, 0.55555556],\n",
       "       [2.04166667, 3.13888889, 2.04166667, 2.45833333, 1.08333333,\n",
       "        1.76388889, 1.05555556],\n",
       "       [1.63888889, 2.04166667, 1.75      , 2.04166667, 1.06944444,\n",
       "        1.06944444, 0.55555556],\n",
       "       [2.04166667, 2.45833333, 2.04166667, 3.13888889, 1.76388889,\n",
       "        1.08333333, 1.05555556],\n",
       "       [1.06944444, 1.08333333, 1.06944444, 1.76388889, 2.        ,\n",
       "        1.31944444, 0.94444444],\n",
       "       [1.06944444, 1.76388889, 1.06944444, 1.08333333, 1.31944444,\n",
       "        2.        , 0.94444444],\n",
       "       [0.55555556, 1.05555556, 0.55555556, 1.05555556, 0.94444444,\n",
       "        0.94444444, 0.88888889]])"
      ]
     },
     "execution_count": 14,
     "metadata": {},
     "output_type": "execute_result"
    }
   ],
   "source": [
    "W1 = W1.dot(W1)\n",
    "W1"
   ]
  },
  {
   "cell_type": "markdown",
   "id": "d90e0f58",
   "metadata": {},
   "source": [
    "<b>Quadratic Form</b>\n",
    "The most natural quadratic form associated with a graph is defined in terms of its <b>Laplacian matrix</b>"
   ]
  },
  {
   "cell_type": "code",
   "execution_count": 15,
   "id": "36c8e5b4",
   "metadata": {},
   "outputs": [
    {
     "data": {
      "text/plain": [
       "array([[ 3., -1., -1., -1.,  0.,  0.,  0.],\n",
       "       [-1.,  4., -1., -1., -1.,  0.,  0.],\n",
       "       [-1., -1.,  3., -1.,  0.,  0.,  0.],\n",
       "       [-1., -1., -1.,  4.,  0., -1.,  0.],\n",
       "       [ 0., -1.,  0.,  0.,  3., -1., -1.],\n",
       "       [ 0.,  0.,  0., -1., -1.,  3., -1.],\n",
       "       [ 0.,  0.,  0.,  0., -1., -1.,  2.]])"
      ]
     },
     "execution_count": 15,
     "metadata": {},
     "output_type": "execute_result"
    }
   ],
   "source": [
    "L = D - M\n",
    "L"
   ]
  },
  {
   "cell_type": "markdown",
   "id": "fb5f84a7",
   "metadata": {},
   "source": [
    "<b>Theorem 1.3.1.</b> [The Spectral Theorem] If M is an n-by-n, real, symmetric matrix, then there\n",
    "exist real numbers λ1,...,λn and n mutually orthogonal unit vectors ψ1,...,ψn and such that ψi\n",
    "is an eigenvector of M of eigenvalue λi, for each i."
   ]
  },
  {
   "cell_type": "markdown",
   "id": "871c39c2",
   "metadata": {},
   "source": [
    "<b>Definition 1.3.2.</b> A matrix is positive definite if it is symmetric and all of its eigenvalues are\n",
    "positive. It is positive semidefinite if it is symmetric and all of its eigenvalues are nonnegative"
   ]
  },
  {
   "cell_type": "markdown",
   "id": "e8b8ed88",
   "metadata": {},
   "source": [
    "<b>Fact 1.3.3.</b> The Laplacian matrix of a graph is positive semi definite."
   ]
  },
  {
   "cell_type": "code",
   "execution_count": 16,
   "id": "cad35cae",
   "metadata": {},
   "outputs": [
    {
     "data": {
      "text/plain": [
       "(array([2.22044605e-16, 8.85092459e-01, 4.86080585e+00, 4.00000000e+00,\n",
       "        3.25410169e+00, 5.61803399e+00, 3.38196601e+00]),\n",
       " array([[ 3.77964473e-01,  4.03601600e-01, -3.73149868e-01,\n",
       "         -7.07106781e-01,  2.34537378e-01,  2.72509145e-16,\n",
       "         -1.09966475e-15],\n",
       "        [ 3.77964473e-01,  2.24989234e-01,  5.33754663e-01,\n",
       "         -9.06937567e-16, -1.47066861e-01,  6.01500955e-01,\n",
       "          3.71748034e-01],\n",
       "        [ 3.77964473e-01,  4.03601600e-01, -3.73149868e-01,\n",
       "          7.07106781e-01,  2.34537378e-01, -2.78746097e-16,\n",
       "          1.58913957e-16],\n",
       "        [ 3.77964473e-01,  2.24989234e-01,  5.33754663e-01,\n",
       "         -7.99384712e-16, -1.47066861e-01, -6.01500955e-01,\n",
       "         -3.71748034e-01],\n",
       "        [ 3.77964473e-01, -3.31371773e-01, -2.46914065e-01,\n",
       "         -4.43864933e-16, -4.31704818e-01, -3.71748034e-01,\n",
       "          6.01500955e-01],\n",
       "        [ 3.77964473e-01, -3.31371773e-01, -2.46914065e-01,\n",
       "          5.27580213e-16, -4.31704818e-01,  3.71748034e-01,\n",
       "         -6.01500955e-01],\n",
       "        [ 3.77964473e-01, -5.94438123e-01,  1.72618540e-01,\n",
       "          4.21187727e-16,  6.88468601e-01,  2.62123437e-17,\n",
       "         -1.74631969e-15]]))"
      ]
     },
     "execution_count": 16,
     "metadata": {},
     "output_type": "execute_result"
    }
   ],
   "source": [
    "np.linalg.eig(L)"
   ]
  },
  {
   "cell_type": "markdown",
   "id": "3f0fdf99",
   "metadata": {},
   "source": [
    "<b>Example:</b>\n",
    "Path matrix (a-b-c-b)"
   ]
  },
  {
   "cell_type": "code",
   "execution_count": 17,
   "id": "3c11eb40",
   "metadata": {},
   "outputs": [
    {
     "data": {
      "text/plain": [
       "array([[0, 1, 0, 0],\n",
       "       [1, 0, 1, 0],\n",
       "       [0, 1, 0, 1],\n",
       "       [0, 0, 1, 0]])"
      ]
     },
     "execution_count": 17,
     "metadata": {},
     "output_type": "execute_result"
    }
   ],
   "source": [
    "M1 = np.array([[0,1,0,0],[1,0,1,0],[0,1,0,1],[0,0,1,0]])\n",
    "M1"
   ]
  },
  {
   "cell_type": "code",
   "execution_count": 18,
   "id": "a6d2b848",
   "metadata": {},
   "outputs": [
    {
     "data": {
      "text/plain": [
       "array([1., 2., 2., 1.])"
      ]
     },
     "execution_count": 18,
     "metadata": {},
     "output_type": "execute_result"
    }
   ],
   "source": [
    "d1 = M1.dot(np.ones(4))\n",
    "d1"
   ]
  },
  {
   "cell_type": "code",
   "execution_count": 19,
   "id": "3eeae7b5",
   "metadata": {},
   "outputs": [
    {
     "data": {
      "text/plain": [
       "array([[1., 0., 0., 0.],\n",
       "       [0., 2., 0., 0.],\n",
       "       [0., 0., 2., 0.],\n",
       "       [0., 0., 0., 1.]])"
      ]
     },
     "execution_count": 19,
     "metadata": {},
     "output_type": "execute_result"
    }
   ],
   "source": [
    "D1 = d1 * np.eye(4)\n",
    "D1"
   ]
  },
  {
   "cell_type": "code",
   "execution_count": 20,
   "id": "1aceb122",
   "metadata": {},
   "outputs": [
    {
     "data": {
      "text/plain": [
       "array([[ 1., -1.,  0.,  0.],\n",
       "       [-1.,  2., -1.,  0.],\n",
       "       [ 0., -1.,  2., -1.],\n",
       "       [ 0.,  0., -1.,  1.]])"
      ]
     },
     "execution_count": 20,
     "metadata": {},
     "output_type": "execute_result"
    }
   ],
   "source": [
    "L1 = D1 - M1\n",
    "L1"
   ]
  },
  {
   "cell_type": "code",
   "execution_count": 21,
   "id": "c3134a30",
   "metadata": {},
   "outputs": [
    {
     "data": {
      "text/plain": [
       "(array([3.41421356e+00, 2.00000000e+00, 9.23055176e-17, 5.85786438e-01]),\n",
       " array([[ 0.27059805,  0.5       , -0.5       , -0.65328148],\n",
       "        [-0.65328148, -0.5       , -0.5       , -0.27059805],\n",
       "        [ 0.65328148, -0.5       , -0.5       ,  0.27059805],\n",
       "        [-0.27059805,  0.5       , -0.5       ,  0.65328148]]))"
      ]
     },
     "execution_count": 21,
     "metadata": {},
     "output_type": "execute_result"
    }
   ],
   "source": [
    "eigenvalues, eigenvectors = np.linalg.eig(L1)\n",
    "eigenvalues, eigenvectors"
   ]
  },
  {
   "cell_type": "markdown",
   "id": "ade37acf",
   "metadata": {},
   "source": [
    "$\\lambda$<sub>2</sub> ~ zero"
   ]
  },
  {
   "cell_type": "code",
   "execution_count": 22,
   "id": "c0e7f48d",
   "metadata": {},
   "outputs": [
    {
     "data": {
      "text/plain": [
       "9.230551756442553e-17"
      ]
     },
     "execution_count": 22,
     "metadata": {},
     "output_type": "execute_result"
    }
   ],
   "source": [
    "eigenvalues[2]"
   ]
  },
  {
   "cell_type": "markdown",
   "id": "34cc0068",
   "metadata": {},
   "source": [
    "vector of $\\lambda$<sub>1</sub> is constant"
   ]
  },
  {
   "cell_type": "code",
   "execution_count": 23,
   "id": "b3105a93",
   "metadata": {},
   "outputs": [
    {
     "data": {
      "text/plain": [
       "array([-0.5, -0.5, -0.5, -0.5])"
      ]
     },
     "execution_count": 23,
     "metadata": {},
     "output_type": "execute_result"
    }
   ],
   "source": [
    "v2 = eigenvectors[:,2]\n",
    "v2"
   ]
  },
  {
   "cell_type": "markdown",
   "id": "43159200",
   "metadata": {},
   "source": [
    "The eigenvector of λ<sub>2</sub> is the lowest frequency eigenvector, as we can see that it increases\n",
    "monotonically along the path"
   ]
  },
  {
   "cell_type": "code",
   "execution_count": 24,
   "id": "dbb5a312",
   "metadata": {},
   "outputs": [
    {
     "data": {
      "text/plain": [
       "array([-0.65328148, -0.27059805,  0.27059805,  0.65328148])"
      ]
     },
     "execution_count": 24,
     "metadata": {},
     "output_type": "execute_result"
    }
   ],
   "source": [
    "v3 = eigenvectors[:,3]\n",
    "v3"
   ]
  },
  {
   "cell_type": "code",
   "execution_count": 25,
   "id": "de7109f9",
   "metadata": {},
   "outputs": [
    {
     "data": {
      "text/plain": [
       "array([ 0.27059805, -0.65328148,  0.65328148, -0.27059805])"
      ]
     },
     "execution_count": 25,
     "metadata": {},
     "output_type": "execute_result"
    }
   ],
   "source": [
    "v0 = eigenvectors[:,0]\n",
    "v0"
   ]
  },
  {
   "cell_type": "code",
   "execution_count": 26,
   "id": "dfb83669",
   "metadata": {},
   "outputs": [
    {
     "data": {
      "text/plain": [
       "array([ 0.5, -0.5, -0.5,  0.5])"
      ]
     },
     "execution_count": 26,
     "metadata": {},
     "output_type": "execute_result"
    }
   ],
   "source": [
    "v1 = eigenvectors[:,1]\n",
    "v1"
   ]
  },
  {
   "cell_type": "code",
   "execution_count": 27,
   "id": "aa859751",
   "metadata": {},
   "outputs": [
    {
     "data": {
      "image/png": "[encoded data removed]",
      "text/plain": [
       "<Figure size 432x288 with 1 Axes>"
      ]
     },
     "metadata": {
      "needs_background": "light"
     },
     "output_type": "display_data"
    }
   ],
   "source": [
    "plt.plot(v0, marker=4, label='v0')\n",
    "plt.plot(v1, marker=4, label='v1')\n",
    "plt.plot(v3, marker=4, label='v3')\n",
    "plt.legend()\n",
    "plt.xlabel(\"Vertex Num\");\n",
    "plt.ylabel(\"Value in Eigenvalue\");"
   ]
  },
  {
   "cell_type": "code",
   "execution_count": 28,
   "id": "d50d1437",
   "metadata": {},
   "outputs": [],
   "source": [
    "def get_laplacian(M):\n",
    "    x,_ = M.shape\n",
    "    u = np.ones(x)\n",
    "    d = M.dot(u)\n",
    "    D = d * np.eye(x)\n",
    "    L = D - M\n",
    "    return L"
   ]
  },
  {
   "cell_type": "code",
   "execution_count": 29,
   "id": "531db859",
   "metadata": {},
   "outputs": [],
   "source": [
    "def get_laplacian_eig(M):\n",
    "    L = get_laplacian(M)\n",
    "    return np.linalg.eig(L)"
   ]
  },
  {
   "cell_type": "code",
   "execution_count": 30,
   "id": "b9107024",
   "metadata": {},
   "outputs": [],
   "source": [
    "def get_eig(M):\n",
    "    return np.linalg.eig(M)"
   ]
  },
  {
   "cell_type": "markdown",
   "id": "3fe234cb",
   "metadata": {},
   "source": [
    "<b>The second-smallest eigenvalue of the Laplacian matrix of a graph is zero if and only if the graph\n",
    "is disconnected.</b>"
   ]
  },
  {
   "cell_type": "code",
   "execution_count": 31,
   "id": "41d6e54b",
   "metadata": {},
   "outputs": [
    {
     "data": {
      "text/plain": [
       "0.0"
      ]
     },
     "execution_count": 31,
     "metadata": {},
     "output_type": "execute_result"
    }
   ],
   "source": [
    "M2 = np.array([[0,1,0,0],[1,0,0,0],[0,0,0,1],[0,0,1,0]])\n",
    "eigv, eigvec = get_laplacian_eig(M2)\n",
    "sorted(eigv)[1]"
   ]
  },
  {
   "cell_type": "markdown",
   "id": "1578b6db",
   "metadata": {},
   "source": [
    "<b>the further λ<sub>2</sub> is from 0, the better connected the graph is:</b>"
   ]
  },
  {
   "cell_type": "code",
   "execution_count": 32,
   "id": "dd1bf9b5",
   "metadata": {},
   "outputs": [
    {
     "data": {
      "text/plain": [
       "0.5857864376269051"
      ]
     },
     "execution_count": 32,
     "metadata": {},
     "output_type": "execute_result"
    }
   ],
   "source": [
    "# add 1-4\n",
    "M2 = np.array([[0,1,0,1],[1,0,0,0],[0,0,0,1],[1,0,1,0]])\n",
    "eigv, eigvec = get_laplacian_eig(M2)\n",
    "sorted(eigv)[1]"
   ]
  },
  {
   "cell_type": "code",
   "execution_count": 33,
   "id": "385b0278",
   "metadata": {},
   "outputs": [
    {
     "data": {
      "text/plain": [
       "0.9999999999999997"
      ]
     },
     "execution_count": 33,
     "metadata": {},
     "output_type": "execute_result"
    }
   ],
   "source": [
    "# add 2-4\n",
    "M2 = np.array([[0,1,0,1],[1,0,0,1],[0,0,0,1],[1,1,1,0]])\n",
    "eigv, eigvec = get_laplacian_eig(M2)\n",
    "sorted(eigv)[1]"
   ]
  },
  {
   "cell_type": "code",
   "execution_count": 34,
   "id": "3ba8b5fd",
   "metadata": {},
   "outputs": [
    {
     "data": {
      "text/plain": [
       "1.999999999999999"
      ]
     },
     "execution_count": 34,
     "metadata": {},
     "output_type": "execute_result"
    }
   ],
   "source": [
    "# add 2-4\n",
    "M2 = np.array([[0,1,1,1],[1,0,0,1],[1,0,0,1],[1,1,1,0]])\n",
    "eigv, eigvec = get_laplacian_eig(M2)\n",
    "next_to_min = sorted(eigv)[1]\n",
    "next_to_min"
   ]
  },
  {
   "cell_type": "code",
   "execution_count": 35,
   "id": "ea0e8656",
   "metadata": {},
   "outputs": [
    {
     "data": {
      "text/plain": [
       "array([[2]])"
      ]
     },
     "execution_count": 35,
     "metadata": {},
     "output_type": "execute_result"
    }
   ],
   "source": [
    "lambda2_indx = np.argwhere(eigv == next_to_min)\n",
    "lambda2_indx"
   ]
  },
  {
   "cell_type": "code",
   "execution_count": 36,
   "id": "823f9530",
   "metadata": {},
   "outputs": [
    {
     "data": {
      "text/plain": [
       "array([-0.28867513, -0.5       ,  0.70710678,  0.4538402 ])"
      ]
     },
     "execution_count": 36,
     "metadata": {},
     "output_type": "execute_result"
    }
   ],
   "source": [
    "v2 = eigvec[lambda2_indx[0][0]]\n",
    "v2"
   ]
  },
  {
   "cell_type": "markdown",
   "id": "7c97463c",
   "metadata": {},
   "source": [
    "<b>If λ<sub>2</sub> is small, then for some t, the set of vertices\n",
    "    </b> S<sub>i</sub> def= {i : ψ<sub>2</sub>(i) < t} <b>\n",
    "may be removed by cutting much less than |S<sub>i</sub>| edges.</b>"
   ]
  },
  {
   "cell_type": "code",
   "execution_count": 37,
   "id": "b9b7b057",
   "metadata": {},
   "outputs": [
    {
     "data": {
      "text/plain": [
       "array([4.00000000e+00, 2.22044605e-16, 2.00000000e+00, 4.00000000e+00])"
      ]
     },
     "execution_count": 37,
     "metadata": {},
     "output_type": "execute_result"
    }
   ],
   "source": [
    "eigv"
   ]
  },
  {
   "cell_type": "code",
   "execution_count": 38,
   "id": "10edef0c",
   "metadata": {},
   "outputs": [
    {
     "data": {
      "text/plain": [
       "[3.9999999999999996,\n",
       " 2.220446049250313e-16,\n",
       " 1.999999999999999,\n",
       " 3.9999999999999996]"
      ]
     },
     "execution_count": 38,
     "metadata": {},
     "output_type": "execute_result"
    }
   ],
   "source": [
    "list(eigv)"
   ]
  },
  {
   "cell_type": "markdown",
   "id": "11484f4b",
   "metadata": {},
   "source": [
    "<b>We will denote the eigenvalues of M by μ<sub>1</sub>,...,μ<sub>n</sub>. But, we order them in the opposite direction than we did for the Laplacian</b>"
   ]
  },
  {
   "cell_type": "code",
   "execution_count": 39,
   "id": "245734e5",
   "metadata": {},
   "outputs": [
    {
     "data": {
      "text/plain": [
       "(array([ 3.31364344e+00,  1.83603754e+00, -1.48603940e+00, -1.00000000e+00,\n",
       "        -6.63641585e-01, -2.00000000e+00,  5.17662865e-17]),\n",
       " array([[-4.16724198e-01, -3.01095329e-01,  3.22411698e-01,\n",
       "          7.07106781e-01, -3.62950744e-01,  1.69958791e-16,\n",
       "         -8.91053867e-17],\n",
       "        [-4.82075605e-01, -1.25863500e-01, -4.00764092e-01,\n",
       "         -1.25626897e-17,  3.01909976e-01,  5.00000000e-01,\n",
       "          5.00000000e-01],\n",
       "        [-4.16724198e-01, -3.01095329e-01,  3.22411698e-01,\n",
       "         -7.07106781e-01, -3.62950744e-01, -8.83346152e-17,\n",
       "          2.33772418e-16],\n",
       "        [-4.82075605e-01, -1.25863500e-01, -4.00764092e-01,\n",
       "         -2.18994783e-16,  3.01909976e-01, -5.00000000e-01,\n",
       "         -5.00000000e-01],\n",
       "        [-2.81902666e-01,  4.96964047e-01,  3.51491929e-01,\n",
       "         -2.59909000e-16,  2.23631498e-01, -5.00000000e-01,\n",
       "          5.00000000e-01],\n",
       "        [-2.81902666e-01,  4.96964047e-01,  3.51491929e-01,\n",
       "         -1.25467931e-16,  2.23631498e-01,  5.00000000e-01,\n",
       "         -5.00000000e-01],\n",
       "        [-1.70146650e-01,  5.41344101e-01, -4.73058693e-01,\n",
       "          1.14451375e-15, -6.73952635e-01, -2.48808227e-16,\n",
       "          2.53452605e-16]]))"
      ]
     },
     "execution_count": 39,
     "metadata": {},
     "output_type": "execute_result"
    }
   ],
   "source": [
    "eigvals, eigvec = get_eig(M)\n",
    "eigvals, eigvec"
   ]
  },
  {
   "cell_type": "code",
   "execution_count": 40,
   "id": "f96fba51",
   "metadata": {},
   "outputs": [
    {
     "data": {
      "text/plain": [
       "(3.3136434442335236, 0)"
      ]
     },
     "execution_count": 40,
     "metadata": {},
     "output_type": "execute_result"
    }
   ],
   "source": [
    "max_eig_val = sorted(eigvals)[6]\n",
    "max_eig_val_indx = np.where(eigvals == max_eig_val)\n",
    "max_eig_val, max_eig_val_indx[0][0]"
   ]
  },
  {
   "cell_type": "code",
   "execution_count": 41,
   "id": "e524e1f4",
   "metadata": {},
   "outputs": [
    {
     "data": {
      "text/plain": [
       "array([-4.16724198e-01, -3.01095329e-01,  3.22411698e-01,  7.07106781e-01,\n",
       "       -3.62950744e-01,  1.69958791e-16, -8.91053867e-17])"
      ]
     },
     "execution_count": 41,
     "metadata": {},
     "output_type": "execute_result"
    }
   ],
   "source": [
    "eigvec[max_eig_val_indx][0]\n"
   ]
  },
  {
   "cell_type": "markdown",
   "id": "ce9062c1",
   "metadata": {},
   "source": [
    "<b>We now examine μ<sub>1</sub> for graphs which are not necessarily regular. Let G be a graph, let d<sub>max</sub> be the maximum degree of a vertex in G, and let d<sub>ave</sub> be the average degree of a vertex in G</b>"
   ]
  },
  {
   "cell_type": "markdown",
   "id": "901d3c4f",
   "metadata": {},
   "source": [
    "<b>Lemma 4.2.1.</b>\n",
    "d<sub>ave</sub> ≤ μ<sub>1</sub> ≤ d<sub>max</sub>"
   ]
  },
  {
   "cell_type": "code",
   "execution_count": 42,
   "id": "2650830f",
   "metadata": {},
   "outputs": [
    {
     "data": {
      "text/plain": [
       "(3.142857142857143, 3.3136434442335236, 4.0)"
      ]
     },
     "execution_count": 42,
     "metadata": {},
     "output_type": "execute_result"
    }
   ],
   "source": [
    "d_ave = sum(d)/len(d)\n",
    "d_max = sorted(d)[6]\n",
    "d_ave, max_eig_val, d_max "
   ]
  },
  {
   "cell_type": "markdown",
   "id": "98d99237",
   "metadata": {},
   "source": [
    "<b>Lemma 4.2.2.</b>\n",
    "If G is connected and μ<sub>1</sub> = d<sub>max</sub>, then G is d<sub>max</sub>-regular."
   ]
  },
  {
   "cell_type": "markdown",
   "id": "efe0a6d5",
   "metadata": {},
   "source": [
    "μ<sub>1</sub> is at least the average degree of every subgraph of G."
   ]
  },
  {
   "cell_type": "markdown",
   "id": "81b8d331",
   "metadata": {},
   "source": [
    "# <b>Eigenvalue Interlacing</b>"
   ]
  },
  {
   "cell_type": "markdown",
   "id": "dc373a83",
   "metadata": {},
   "source": [
    "<b>Theorem 4.3.1</b> (Cauchy’s Interlacing Theorem). Let A be an n-by-n symmetric matrix and let\n",
    "B be a principal submatrix of A of dimension n −1 (that is, B is obtained by deleting the same row and column from A). Then, α<sub>1</sub> ≥ β<sub>1</sub> ≥ α<sub>2</sub> ≥ β<sub>2</sub> ≥···≥ α<sub>n−1</sub> ≥ β<sub>n−1</sub> ≥ α<sub>n</sub>"
   ]
  },
  {
   "cell_type": "markdown",
   "id": "86e2cc51",
   "metadata": {},
   "source": [
    "<b>Lemma 4.3.2.</b> For every S ⊆ V , let d<sub>ave</sub>(S) be the average degree of G(S). Then,\n",
    "d<sub>ave</sub>(S) ≤ μ<sub>1</sub>"
   ]
  },
  {
   "cell_type": "markdown",
   "id": "7a45dad1",
   "metadata": {},
   "source": [
    "# <b>Wilf ’s Theorem</b>"
   ]
  },
  {
   "cell_type": "markdown",
   "id": "c39ff017",
   "metadata": {},
   "source": [
    "The chromatic number of a graph, written χ(G), is the least k for which G is k-colorable. The bipartite graphs are exactly the graph of chromatic number 2."
   ]
  },
  {
   "cell_type": "markdown",
   "id": "411119f9",
   "metadata": {},
   "source": [
    "<b>Theorem 4.4.1.</b>\n",
    "χ(G) ≤ floor(μ<sub>1</sub>) + 1"
   ]
  },
  {
   "cell_type": "markdown",
   "id": "9da3432b",
   "metadata": {},
   "source": [
    "The simplest example in which this theorem improves over the naive bound of d<sub>max</sub> + 1 is the\n",
    "path graph on 3 vertices: it has d<sub>max</sub> = 2 but μ<sub>1</sub> < 2. Thus, Wilf’s theorem tells us that it can be colored with 2 colors. <p>Star graphs provide more extreme examples.</p>\n",
    "<p>A star graph with n vertices has d<sub>max</sub> = n −1 but μ<sub>1</sub> = √n −1.</p>"
   ]
  },
  {
   "cell_type": "markdown",
   "id": "16156f18",
   "metadata": {},
   "source": [
    "# Perron-Frobenius Theory for symmetric matrices"
   ]
  },
  {
   "cell_type": "markdown",
   "id": "cd680c66",
   "metadata": {},
   "source": [
    "The eigenvector corresponding to the largest eigenvalue of the adjacency matrix of a graph is\n",
    "usually not a constant vector. However, it is always a positive vector if the graph is connected."
   ]
  },
  {
   "cell_type": "code",
   "execution_count": 43,
   "id": "d7ac970b",
   "metadata": {},
   "outputs": [
    {
     "data": {
      "text/plain": [
       "(3.0, array([[0.28867513, 0.5       , 0.85519107, 0.05025189]]))"
      ]
     },
     "execution_count": 43,
     "metadata": {},
     "output_type": "execute_result"
    }
   ],
   "source": [
    "M3 = np.array([[0,1,1,1],[1,0,1,1],[1,1,0,1],[1,1,1,0]])\n",
    "eigvals, eigvecs = get_eig(M3)\n",
    "max_eig_val = sorted(eigvals)[len(eigvals)-1]\n",
    "max_eig_val_indx = np.where(eigvals == max_eig_val)\n",
    "max_eig_val, eigvecs[max_eig_val_indx]"
   ]
  },
  {
   "cell_type": "code",
   "execution_count": 44,
   "id": "ed08083a",
   "metadata": {},
   "outputs": [
    {
     "data": {
      "text/plain": [
       "(3.0, array([[0.28867513, 0.5       , 0.85519107, 0.05025189]]))"
      ]
     },
     "execution_count": 44,
     "metadata": {},
     "output_type": "execute_result"
    }
   ],
   "source": [
    "M3 = np.array([[0,1,1,1],[1,0,1,1],[1,1,0,1],[1,1,1,0]])\n",
    "eigvals, eigvecs = get_eig(M3)\n",
    "max_eig_val = sorted(eigvals)[len(eigvals)-1]\n",
    "max_eig_val_indx = np.where(eigvals == max_eig_val)\n",
    "max_eig_val, eigvecs[max_eig_val_indx]"
   ]
  },
  {
   "cell_type": "code",
   "execution_count": 45,
   "id": "c8cd7aef",
   "metadata": {},
   "outputs": [
    {
     "data": {
      "text/plain": [
       "array([[-0.8660254 ,  0.5       , -0.41381232, -0.15075567],\n",
       "       [ 0.28867513,  0.5       ,  0.85519107,  0.05025189],\n",
       "       [ 0.28867513,  0.5       , -0.22068937, -0.64605873],\n",
       "       [ 0.28867513,  0.5       , -0.22068937,  0.74656251]])"
      ]
     },
     "execution_count": 45,
     "metadata": {},
     "output_type": "execute_result"
    }
   ],
   "source": [
    "eigvecs\n"
   ]
  },
  {
   "cell_type": "code",
   "execution_count": 46,
   "id": "ecf130ef",
   "metadata": {},
   "outputs": [
    {
     "data": {
      "text/plain": [
       "array([-1.,  3., -1., -1.])"
      ]
     },
     "execution_count": 46,
     "metadata": {},
     "output_type": "execute_result"
    }
   ],
   "source": [
    "eigvals"
   ]
  },
  {
   "cell_type": "markdown",
   "id": "a50205ff",
   "metadata": {},
   "source": [
    "<b>Theorem 4.5.1.</b> [Perron-Frobenius, Symmetric Case] Let G be a connected weighted graph, let M be its adjacency matrix, and let μ<sub>1</sub> ≥ μ<sub>2</sub> ≥···≥ μ<sub>n</sub> be its eigenvalues. Then \n",
    "<p>a. The eigenvalue μ<sub>1</sub> has a strictly positive eigenvector</p>\n",
    "<p>b. μ<sub>1</sub> ≥ −μ<sub>n</sub></p>\n",
    "<p>c. μ<sub>1</sub> > μ<sub>2</sub></p>"
   ]
  },
  {
   "cell_type": "markdown",
   "id": "9c04ab27",
   "metadata": {},
   "source": [
    "<b>Lemma 4.5.2.</b> Let G be a connected weighted graph (with non-negative edge weights), let M be its adjacency matrix, and assume that some non-negative vector φ is an eigenvector of M . Then, φ is strictly positive.\n"
   ]
  },
  {
   "cell_type": "markdown",
   "id": "6d040d89",
   "metadata": {},
   "source": [
    "<b>Proposition 4.5.3.</b> If G is a connected graph and μ<sub>n</sub> = −μ<sub>1</sub>, then G is bipartite.\n",
    "<p>In fact, if μ<sub>n</sub> = −μ<sub>1</sub>, then μ<sub>n−i</sub> = −μ<sub>i+1</sub> for every i.</p>"
   ]
  },
  {
   "cell_type": "code",
   "execution_count": 47,
   "id": "aec0e44f",
   "metadata": {},
   "outputs": [
    {
     "data": {
      "text/plain": [
       "(array([ 1.73205081e+00, -1.73205081e+00, -1.00000000e+00, -3.29824209e-17,\n",
       "         1.00000000e+00]),\n",
       " array([[ 2.88675135e-01, -2.88675135e-01, -5.00000000e-01,\n",
       "          5.77350269e-01, -5.00000000e-01],\n",
       "        [ 5.00000000e-01,  5.00000000e-01,  5.00000000e-01,\n",
       "         -1.09360064e-16, -5.00000000e-01],\n",
       "        [ 5.77350269e-01, -5.77350269e-01, -4.37568744e-16,\n",
       "         -5.77350269e-01, -1.29931559e-16],\n",
       "        [ 5.00000000e-01,  5.00000000e-01, -5.00000000e-01,\n",
       "          6.63556812e-17,  5.00000000e-01],\n",
       "        [ 2.88675135e-01, -2.88675135e-01,  5.00000000e-01,\n",
       "          5.77350269e-01,  5.00000000e-01]]),\n",
       " [-1.7320508075688763,\n",
       "  -0.9999999999999992,\n",
       "  -3.2982420948648636e-17,\n",
       "  1.0,\n",
       "  1.7320508075688805])"
      ]
     },
     "execution_count": 47,
     "metadata": {},
     "output_type": "execute_result"
    }
   ],
   "source": [
    "M4 = np.array([[0,1,0,0,0],[1,0,1,0,0],[0,1,0,1,0],[0,0,1,0,1],[0,0,0,1,0]])\n",
    "eigvals, eigvecs = get_eig(M4)\n",
    "eigvals, eigvecs, sorted(eigvals)"
   ]
  },
  {
   "cell_type": "markdown",
   "id": "af97dda2",
   "metadata": {},
   "source": [
    "<b>Proposition 4.5.4.</b> If G is bipartite then the eigenvalues of its adjacency matrix are symmetric about zero"
   ]
  },
  {
   "cell_type": "markdown",
   "id": "1a834482",
   "metadata": {},
   "source": [
    "<b>Lemma 5.2.1.</b> \n",
    "If G and H are graphs such that G < c ·H, then λ<sub>k</sub>(G) ≥ cλ<sub>k<?sub>(H)"
   ]
  },
  {
   "cell_type": "markdown",
   "id": "e7488890",
   "metadata": {},
   "source": [
    "<b>Corollary 5.2.2.</b> Let G be a graph and let H be obtained by either adding an edge to G or increasing the weight of an edge in G. Then, for all a λ<sub>i</sub>(G) ≤ λ<sub>i</sub>(H)"
   ]
  },
  {
   "cell_type": "markdown",
   "id": "e8fe8d90",
   "metadata": {},
   "source": [
    "<b>Lemma 5.4.1.</b> (n −1) ·P<sub>n</sub> < G<sub>1,n</sub>\n",
    "<p>where P<sub>n</sub> is the path from vertex 1 to vertex n, and G<sub>1,n</sub> is the graph with just the edge (1,n). All of these edges are unweighted</p>"
   ]
  },
  {
   "cell_type": "markdown",
   "id": "ba61cbc2",
   "metadata": {},
   "source": [
    "# Bounding λ2 of a Path Graph"
   ]
  },
  {
   "cell_type": "markdown",
   "id": "c1572852",
   "metadata": {},
   "source": [
    "recall that λ<sub>2</sub>(K<sub>n</sub>) = n"
   ]
  },
  {
   "cell_type": "markdown",
   "id": "542682bf",
   "metadata": {},
   "source": [
    "we obtain 6 / ( (n + 1)(n −1) ) ≤ λ<sub>2</sub>( P<sub>n</sub> )"
   ]
  },
  {
   "cell_type": "markdown",
   "id": "01b06234",
   "metadata": {},
   "source": [
    "# The complete graph</b>\n",
    "<p>The complete graph on n vertices, K<sub>n</sub>, has edge set {(a,b) : a != b}.</p>\n",
    "<p><b>Lemma 6.1.1.</b> The Laplacian of K<sub>n</sub> has eigenvalue 0 with multiplicity 1 and n with multiplicity\n",
    "n −1.</p>"
   ]
  },
  {
   "cell_type": "code",
   "execution_count": 48,
   "id": "5a3acdbd",
   "metadata": {},
   "outputs": [
    {
     "data": {
      "text/plain": [
       "[-1.1102230246251565e-16, 3.9999999999999996, 4.0, 4.000000000000001]"
      ]
     },
     "execution_count": 48,
     "metadata": {},
     "output_type": "execute_result"
    }
   ],
   "source": [
    "M = np.array([[0,1,1,1],[1,0,1,1],[1,1,0,1],[1,1,1,0]])\n",
    "eigvals, eigvecs = get_laplacian_eig(M)\n",
    "L = get_laplacian(M)\n",
    "sorted(eigvals)"
   ]
  },
  {
   "cell_type": "code",
   "execution_count": 49,
   "id": "975c80b6",
   "metadata": {},
   "outputs": [
    {
     "data": {
      "text/plain": [
       "(array([-0.80022006, -1.64551953,  3.79660111, -1.35086152]),\n",
       " array([ 3.20493781e-17,  5.55111512e-17, -9.55380395e-17,  4.73327485e-17]))"
      ]
     },
     "execution_count": 49,
     "metadata": {},
     "output_type": "execute_result"
    }
   ],
   "source": [
    "i = 1\n",
    "L.dot(eigvecs[i]),  eigvals[i] * eigvecs[i]"
   ]
  },
  {
   "cell_type": "markdown",
   "id": "3e4a1224",
   "metadata": {},
   "source": [
    "Observe that L<sub>K<sub>n</sub></sub> = nI −11<sup>T</sup>"
   ]
  },
  {
   "cell_type": "code",
   "execution_count": 50,
   "id": "3c9d3508",
   "metadata": {},
   "outputs": [
    {
     "data": {
      "text/plain": [
       "array([[ 3., -1., -1., -1.],\n",
       "       [-1.,  3., -1., -1.],\n",
       "       [-1., -1.,  3., -1.],\n",
       "       [-1., -1., -1.,  3.]])"
      ]
     },
     "execution_count": 50,
     "metadata": {},
     "output_type": "execute_result"
    }
   ],
   "source": [
    "M = np.array([[0,1,1,1],[1,0,1,1],[1,1,0,1],[1,1,1,0]])\n",
    "L = get_laplacian(M)\n",
    "L"
   ]
  },
  {
   "cell_type": "code",
   "execution_count": 51,
   "id": "daf10cbf",
   "metadata": {},
   "outputs": [
    {
     "data": {
      "text/plain": [
       "array([[ 3., -1., -1., -1.],\n",
       "       [-1.,  3., -1., -1.],\n",
       "       [-1., -1.,  3., -1.],\n",
       "       [-1., -1., -1.,  3.]])"
      ]
     },
     "execution_count": 51,
     "metadata": {},
     "output_type": "execute_result"
    }
   ],
   "source": [
    "4 * np.eye(4) - np.ones((4,4))"
   ]
  },
  {
   "cell_type": "markdown",
   "id": "757ef12a",
   "metadata": {},
   "source": [
    "# The Star Graph\n",
    "<p>The star graph on n vertices S<sub>n</sub> has edge set {(1,a) : 2 ≤ a ≤ n}.</p>\n",
    "<p><b>Lemma 6.2.1.</b> Let G = (V,E) be a graph, and let a and b be vertices of degree one that are both\n",
    "    connected to another vertex c. Then, the vector ψ = δ<sub>a</sub> −δ<sub>b</sub> is an eigenvector of L<sub>G</sub> of eigenvalue 1.</p>\n",
    "<p><b>Lemma 6.2.2.</b> The graph S<sub>n</sub> has eigenvalue 0 with multiplicity 1, eigenvalue 1 with multiplicity \n",
    "n −2, and eigenvalue n with multiplicity 1.</p>"
   ]
  },
  {
   "cell_type": "code",
   "execution_count": 52,
   "id": "f3eb4081",
   "metadata": {},
   "outputs": [
    {
     "data": {
      "text/plain": [
       "(array([4.00000000e+00, 2.22044605e-16, 1.00000000e+00, 1.00000000e+00]),\n",
       " array([[ 8.66025404e-01, -5.00000000e-01, -4.53246652e-17,\n",
       "          4.53246652e-17],\n",
       "        [-2.88675135e-01, -5.00000000e-01,  8.16496581e-01,\n",
       "         -3.97197983e-17],\n",
       "        [-2.88675135e-01, -5.00000000e-01, -4.08248290e-01,\n",
       "         -7.07106781e-01],\n",
       "        [-2.88675135e-01, -5.00000000e-01, -4.08248290e-01,\n",
       "          7.07106781e-01]]),\n",
       " [2.220446049250313e-16, 0.9999999999999996, 0.9999999999999999, 4.0])"
      ]
     },
     "execution_count": 52,
     "metadata": {},
     "output_type": "execute_result"
    }
   ],
   "source": [
    "M = np.array([[0,1,1,1],[1,0,0,0],[1,0,0,0],[1,0,0,0]])\n",
    "eigvals, eigvec = get_laplacian_eig(M)\n",
    "eigvals, eigvec, sorted(eigvals)"
   ]
  },
  {
   "cell_type": "code",
   "execution_count": 72,
   "id": "035187a2",
   "metadata": {},
   "outputs": [],
   "source": [
    "L = get_laplacian(M)"
   ]
  },
  {
   "cell_type": "code",
   "execution_count": 123,
   "id": "7a76a9de",
   "metadata": {},
   "outputs": [
    {
     "data": {
      "text/plain": [
       "(array([-0.78056089, -0.23119527, -0.03589784,  1.04765401]),\n",
       " array([-0.19514022, -0.4263355 , -0.23103806,  0.85251378]))"
      ]
     },
     "execution_count": 123,
     "metadata": {},
     "output_type": "execute_result"
    }
   ],
   "source": [
    "i = 3\n",
    "L.dot(eigvecs[:,i]), eigvals[i] * eigvecs[:,i]"
   ]
  },
  {
   "cell_type": "markdown",
   "id": "bce53ff4",
   "metadata": {},
   "source": [
    "<b>The sum of the values of the eigenvalues = the trace of the matrix L. The trace of L<sub>s</sub> is 2n-2</b>"
   ]
  },
  {
   "cell_type": "code",
   "execution_count": 112,
   "id": "5b306bd4",
   "metadata": {},
   "outputs": [
    {
     "data": {
      "text/plain": [
       "(6.0, 6.0, 6.0)"
      ]
     },
     "execution_count": 112,
     "metadata": {},
     "output_type": "execute_result"
    }
   ],
   "source": [
    "n,_ = L.shape\n",
    "sum(eigvals), L.trace(), 2.0 * n - 2"
   ]
  },
  {
   "cell_type": "code",
   "execution_count": 122,
   "id": "06e618b7",
   "metadata": {},
   "outputs": [
    {
     "data": {
      "text/plain": [
       "-0.22532852014897659"
      ]
     },
     "execution_count": 122,
     "metadata": {},
     "output_type": "execute_result"
    }
   ],
   "source": [
    "eigvecs[:,0].dot(eigvecs[:,3])"
   ]
  },
  {
   "cell_type": "code",
   "execution_count": null,
   "id": "c5015165",
   "metadata": {},
   "outputs": [],
   "source": []
  }
 ],
 "metadata": {
  "kernelspec": {
   "display_name": "Python 3 (ipykernel)",
   "language": "python",
   "name": "python3"
  },
  "language_info": {
   "codemirror_mode": {
    "name": "ipython",
    "version": 3
   },
   "file_extension": ".py",
   "mimetype": "text/x-python",
   "name": "python",
   "nbconvert_exporter": "python",
   "pygments_lexer": "ipython3",
   "version": "3.8.10"
  }
 },
 "nbformat": 4,
 "nbformat_minor": 5
}
