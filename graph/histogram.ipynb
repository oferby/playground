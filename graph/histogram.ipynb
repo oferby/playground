{
 "cells": [
  {
   "cell_type": "code",
   "execution_count": 6,
   "metadata": {
    "collapsed": true
   },
   "outputs": [],
   "source": [
    "import matplotlib.pyplot as plt\n",
    "import collections\n",
    "import numpy as np"
   ]
  },
  {
   "cell_type": "code",
   "execution_count": 9,
   "metadata": {
    "collapsed": false
   },
   "outputs": [
    {
     "data": {
      "text/plain": [
       "array([6, 1, 3, 3, 1, 3, 9, 5, 1, 4, 4, 0, 6, 4, 8, 4, 1, 8, 0, 2, 7, 9, 2,\n",
       "       1, 2, 0, 4, 0, 9, 1, 3, 1, 9, 7, 2, 8, 5, 9, 0, 0, 0, 9, 8, 3, 5, 6,\n",
       "       7, 2, 4, 8, 2, 9, 1, 8, 7, 2, 9, 0, 1, 0, 4, 7, 8, 5, 7, 6, 9, 0, 8,\n",
       "       2, 9, 9, 5, 4, 1, 0, 3, 8, 0, 3, 9, 7, 2, 8, 3, 1, 7, 0, 1, 0, 8, 1,\n",
       "       9, 0, 8, 8, 2, 9, 4, 4])"
      ]
     },
     "execution_count": 9,
     "metadata": {},
     "output_type": "execute_result"
    }
   ],
   "source": [
    "A = np.random.randint(10, size=100)\n",
    "A"
   ]
  },
  {
   "cell_type": "code",
   "execution_count": 10,
   "metadata": {
    "collapsed": false
   },
   "outputs": [
    {
     "data": {
      "text/plain": [
       "Counter({0: 15, 1: 13, 2: 10, 3: 8, 4: 10, 5: 5, 6: 4, 7: 8, 8: 13, 9: 14})"
      ]
     },
     "execution_count": 10,
     "metadata": {},
     "output_type": "execute_result"
    }
   ],
   "source": [
    "B = collections.Counter(A)\n",
    "B"
   ]
  },
  {
   "cell_type": "code",
   "execution_count": 11,
   "metadata": {
    "collapsed": false
   },
   "outputs": [
    {
     "data": {
      "text/plain": [
       "[15, 13, 10, 8, 10, 5, 4, 8, 13, 14]"
      ]
     },
     "execution_count": 11,
     "metadata": {},
     "output_type": "execute_result"
    }
   ],
   "source": [
    "xs = range(10)\n",
    "ys = [B[x] for x in xs]\n",
    "ys"
   ]
  },
  {
   "cell_type": "code",
   "execution_count": 12,
   "metadata": {
    "collapsed": false
   },
   "outputs": [
    {
     "data": {
      "image/png": "[encoded data removed]",
      "text/plain": [
       "<matplotlib.figure.Figure at 0x7fe417a09828>"
      ]
     },
     "metadata": {},
     "output_type": "display_data"
    }
   ],
   "source": [
    "plt.bar(xs, ys)\n",
    "plt.axis([0, max(xs), 0, max(ys)])\n",
    "plt.title('My Histogram')\n",
    "plt.xlabel('My Xs')\n",
    "plt.ylabel('My Ys')\n",
    "plt.show()\n"
   ]
  },
  {
   "cell_type": "code",
   "execution_count": null,
   "metadata": {
    "collapsed": true
   },
   "outputs": [],
   "source": []
  }
 ],
 "metadata": {
  "kernelspec": {
   "display_name": "Python 3",
   "language": "python",
   "name": "python3"
  },
  "language_info": {
   "codemirror_mode": {
    "name": "ipython",
    "version": 3
   },
   "file_extension": ".py",
   "mimetype": "text/x-python",
   "name": "python",
   "nbconvert_exporter": "python",
   "pygments_lexer": "ipython3",
   "version": "3.5.2"
  }
 },
 "nbformat": 4,
 "nbformat_minor": 2
}
