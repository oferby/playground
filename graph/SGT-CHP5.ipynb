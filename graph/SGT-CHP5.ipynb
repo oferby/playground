{
 "cells": [
  {
   "cell_type": "markdown",
   "id": "8ae7b8c1",
   "metadata": {},
   "source": [
    "# Spectral Graph Theory - Chapter 5"
   ]
  },
  {
   "cell_type": "code",
   "execution_count": 1,
   "id": "300d54f2",
   "metadata": {},
   "outputs": [],
   "source": [
    "import numpy as np"
   ]
  },
  {
   "cell_type": "code",
   "execution_count": 2,
   "id": "74bbaf1e",
   "metadata": {},
   "outputs": [],
   "source": [
    "def get_laplacian(M):\n",
    "    x, _ = M.shape\n",
    "    d = M.dot(np.ones(x))\n",
    "    L = np.eye(x) - (1/d) * M\n",
    "    return L"
   ]
  },
  {
   "cell_type": "code",
   "execution_count": 3,
   "id": "843829d4",
   "metadata": {},
   "outputs": [],
   "source": [
    "def get_laplacian_eig(M):\n",
    "    L = get_laplacian(M)\n",
    "    return np.linalg.eig(L)"
   ]
  },
  {
   "cell_type": "code",
   "execution_count": 4,
   "id": "adb6fb2b",
   "metadata": {},
   "outputs": [],
   "source": [
    "def get_eig(M):\n",
    "    return np.linalg.eig(M)"
   ]
  },
  {
   "cell_type": "markdown",
   "id": "9ad41ee3",
   "metadata": {},
   "source": [
    "λ<sub>2</sub>(K<sub>n</sub>) = n"
   ]
  },
  {
   "cell_type": "code",
   "execution_count": 13,
   "id": "be5506b1",
   "metadata": {},
   "outputs": [],
   "source": [
    "M = np.array([[0,1,0,1],[1,0,1,0],[0,1,0,1],[1,0,1,0]])"
   ]
  },
  {
   "cell_type": "code",
   "execution_count": 14,
   "id": "73261246",
   "metadata": {},
   "outputs": [
    {
     "data": {
      "text/plain": [
       "[1.9999999999999993, 0.0, 0.0, -1.999999999999999]"
      ]
     },
     "execution_count": 14,
     "metadata": {},
     "output_type": "execute_result"
    }
   ],
   "source": [
    "eigvals, eigvecs = get_eig(M)\n",
    "sorted(eigvals, reverse=True)"
   ]
  },
  {
   "cell_type": "code",
   "execution_count": 15,
   "id": "899910f1",
   "metadata": {},
   "outputs": [
    {
     "data": {
      "text/plain": [
       "[-2.220446049250313e-16, 1.0, 1.0, 1.9999999999999993]"
      ]
     },
     "execution_count": 15,
     "metadata": {},
     "output_type": "execute_result"
    }
   ],
   "source": [
    "eigvals, eigvecs = get_laplacian_eig(M)\n",
    "sorted(eigvals)"
   ]
  },
  {
   "cell_type": "code",
   "execution_count": 16,
   "id": "59f07728",
   "metadata": {},
   "outputs": [
    {
     "data": {
      "text/plain": [
       "(array([-2.22044605e-16,  2.00000000e+00,  1.00000000e+00,  1.00000000e+00]),\n",
       " array([[ 5.00000000e-01,  5.00000000e-01,  5.97434869e-09,\n",
       "         -7.05097831e-01],\n",
       "        [ 5.00000000e-01, -5.00000000e-01, -7.07106781e-01,\n",
       "          5.32639505e-02],\n",
       "        [ 5.00000000e-01,  5.00000000e-01, -5.97434837e-09,\n",
       "          7.05097831e-01],\n",
       "        [ 5.00000000e-01, -5.00000000e-01,  7.07106781e-01,\n",
       "         -5.32639505e-02]]))"
      ]
     },
     "execution_count": 16,
     "metadata": {},
     "output_type": "execute_result"
    }
   ],
   "source": [
    "eigvals, eigvecs"
   ]
  },
  {
   "cell_type": "markdown",
   "id": "2b08b84b",
   "metadata": {},
   "source": [
    "<b>disconnected graph</b>"
   ]
  },
  {
   "cell_type": "code",
   "execution_count": 9,
   "id": "060a652c",
   "metadata": {},
   "outputs": [],
   "source": [
    "M = np.array([[0,1,0,0],[1,0,0,0],[0,0,0,1],[0,0,1,0]])"
   ]
  },
  {
   "cell_type": "code",
   "execution_count": 10,
   "id": "1695669e",
   "metadata": {},
   "outputs": [
    {
     "data": {
      "text/plain": [
       "array([[ 1., -1.,  0.,  0.],\n",
       "       [-1.,  1.,  0.,  0.],\n",
       "       [ 0.,  0.,  1., -1.],\n",
       "       [ 0.,  0., -1.,  1.]])"
      ]
     },
     "execution_count": 10,
     "metadata": {},
     "output_type": "execute_result"
    }
   ],
   "source": [
    "get_laplacian(M)"
   ]
  },
  {
   "cell_type": "code",
   "execution_count": 11,
   "id": "3b37d4a7",
   "metadata": {},
   "outputs": [
    {
     "data": {
      "text/plain": [
       "(array([2., 0., 2., 0.]),\n",
       " array([[ 0.70710678,  0.70710678,  0.        ,  0.        ],\n",
       "        [-0.70710678,  0.70710678,  0.        ,  0.        ],\n",
       "        [ 0.        ,  0.        ,  0.70710678,  0.70710678],\n",
       "        [ 0.        ,  0.        , -0.70710678,  0.70710678]]))"
      ]
     },
     "execution_count": 11,
     "metadata": {},
     "output_type": "execute_result"
    }
   ],
   "source": [
    "get_laplacian_eig(M)"
   ]
  },
  {
   "cell_type": "code",
   "execution_count": 18,
   "id": "1a9c0be6",
   "metadata": {},
   "outputs": [
    {
     "data": {
      "text/plain": [
       "(array([ 0.5, -0.5,  0.5, -0.5]), 1.9999999999999993)"
      ]
     },
     "execution_count": 18,
     "metadata": {},
     "output_type": "execute_result"
    }
   ],
   "source": [
    "eigvecs[:,1], eigvals[1]"
   ]
  },
  {
   "cell_type": "code",
   "execution_count": 22,
   "id": "132d294c",
   "metadata": {},
   "outputs": [
    {
     "name": "stdout",
     "output_type": "stream",
     "text": [
      "[1. 1. 1. 1.] [-1.11022302e-16 -1.11022302e-16 -1.11022302e-16 -1.11022302e-16]\n",
      "[-1.  1. -1.  1.] [ 1. -1.  1. -1.]\n",
      "[1.11022302e-16 3.14018490e-16 1.11022302e-16 3.14018490e-16] [ 5.97434869e-09 -7.07106781e-01 -5.97434837e-09  7.07106781e-01]\n",
      "[7.63278329e-17 2.22044605e-16 7.63278329e-17 2.22044605e-16] [-0.70509783  0.05326395  0.70509783 -0.05326395]\n"
     ]
    }
   ],
   "source": [
    "for i in range(4):\n",
    "    print(M.dot(eigvecs[:,i]), eigvecs[:,i] * eigvals[i])"
   ]
  },
  {
   "cell_type": "code",
   "execution_count": null,
   "id": "0f89ce97",
   "metadata": {},
   "outputs": [],
   "source": []
  },
  {
   "cell_type": "code",
   "execution_count": null,
   "id": "427014fa",
   "metadata": {},
   "outputs": [],
   "source": []
  }
 ],
 "metadata": {
  "kernelspec": {
   "display_name": "Python 3",
   "language": "python",
   "name": "python3"
  },
  "language_info": {
   "codemirror_mode": {
    "name": "ipython",
    "version": 3
   },
   "file_extension": ".py",
   "mimetype": "text/x-python",
   "name": "python",
   "nbconvert_exporter": "python",
   "pygments_lexer": "ipython3",
   "version": "3.6.9"
  }
 },
 "nbformat": 4,
 "nbformat_minor": 5
}
