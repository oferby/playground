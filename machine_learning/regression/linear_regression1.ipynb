{
 "cells": [
  {
   "cell_type": "code",
   "execution_count": 1,
   "metadata": {
    "collapsed": true
   },
   "outputs": [],
   "source": [
    "from statistics import mean\n",
    "import math\n",
    "import numpy as np\n",
    "import matplotlib.pyplot as plt\n",
    "from matplotlib import style\n",
    "import random\n"
   ]
  },
  {
   "cell_type": "code",
   "execution_count": 2,
   "metadata": {
    "collapsed": true
   },
   "outputs": [],
   "source": [
    "style.use('fivethirtyeight')\n"
   ]
  },
  {
   "cell_type": "code",
   "execution_count": 3,
   "metadata": {
    "collapsed": true
   },
   "outputs": [],
   "source": [
    "def create_data_set(n, variance, step=2, correlation=False):\n",
    "    val = 1\n",
    "    Y = []\n",
    "    X = []\n",
    "    for i in range(n):\n",
    "        y = val + random.randrange(-variance, variance)\n",
    "        Y.append(y)\n",
    "        if correlation and correlation == 'pos':\n",
    "            val += step\n",
    "        elif correlation and correlation == 'neg':\n",
    "            val -= step\n",
    "        X.append(i)\n",
    "    # X = [i for i in range(len(Y))]\n",
    "    return np.array(X, dtype=np.float64), np.array(Y, dtype=np.float64)\n",
    "\n"
   ]
  },
  {
   "cell_type": "code",
   "execution_count": 4,
   "metadata": {
    "collapsed": true
   },
   "outputs": [],
   "source": [
    "def get_slop_and_intercept(X, Y):\n",
    "    m = (mean(X) * mean(Y) - mean(X * Y)) / (mean(X) * mean(X) - mean(X * X))\n",
    "    b = mean(Y) - m * mean(X)\n",
    "    return m, b\n",
    "\n"
   ]
  },
  {
   "cell_type": "code",
   "execution_count": 5,
   "metadata": {
    "collapsed": true
   },
   "outputs": [],
   "source": [
    "def get_mse(Y, Y_predicted):\n",
    "    n = len(Y)\n",
    "    Y1 = Y_predicted - Y\n",
    "    Y2 = Y1 * Y1\n",
    "    s = sum(Y2)\n",
    "    mse = 1 / float(n) * s\n",
    "    return mse\n"
   ]
  },
  {
   "cell_type": "code",
   "execution_count": 6,
   "metadata": {
    "collapsed": false
   },
   "outputs": [
    {
     "name": "stdout",
     "output_type": "stream",
     "text": [
      "MSE: 77.04456144465293\nRMSE: 8.777503144098151\n"
     ]
    },
    {
     "data": {
      "image/png": "[encoded data removed]",
      "text/plain": [
       "<matplotlib.figure.Figure at 0xe761828>"
      ]
     },
     "metadata": {},
     "output_type": "display_data"
    }
   ],
   "source": [
    "X, Y = create_data_set(40, 15, correlation='pos')\n",
    "\n",
    "m, b = get_slop_and_intercept(X, Y)\n",
    "\n",
    "regression_line = [m * x + b for x in X]\n",
    "\n",
    "mse = get_mse(Y, regression_line)\n",
    "\n",
    "print('MSE: %s' % mse)\n",
    "print ('RMSE: %s' % math.sqrt(mse))\n",
    "\n",
    "plt.scatter(X, Y)\n",
    "plt.plot(X, regression_line)\n",
    "plt.show()\n"
   ]
  },
  {
   "cell_type": "code",
   "execution_count": null,
   "metadata": {
    "collapsed": true
   },
   "outputs": [],
   "source": []
  }
 ],
 "metadata": {
  "kernelspec": {
   "display_name": "Python 3",
   "language": "python",
   "name": "python3"
  },
  "language_info": {
   "codemirror_mode": {
    "name": "ipython",
    "version": 3
   },
   "file_extension": ".py",
   "mimetype": "text/x-python",
   "name": "python",
   "nbconvert_exporter": "python",
   "pygments_lexer": "ipython3",
   "version": "3.5.2"
  }
 },
 "nbformat": 4,
 "nbformat_minor": 2
}
