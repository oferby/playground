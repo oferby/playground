{
 "cells": [
  {
   "cell_type": "code",
   "execution_count": null,
   "metadata": {
    "collapsed": true,
    "deletable": true,
    "editable": true
   },
   "outputs": [],
   "source": [
    "import numpy as np\n",
    "import pandas as pd"
   ]
  },
  {
   "cell_type": "code",
   "execution_count": null,
   "metadata": {
    "collapsed": false,
    "deletable": true,
    "editable": true
   },
   "outputs": [],
   "source": [
    "# state 0 lose, state 9 win\n",
    "states = 100\n",
    "actions = 2\n",
    "reward = -1\n",
    "alfa = 1\n",
    "win = 100\n",
    "lose = -100\n",
    "world = np.zeros((states, actions))\n",
    "world[states-1,1] = win\n",
    "world[0,0] = lose\n",
    "world"
   ]
  },
  {
   "cell_type": "code",
   "execution_count": null,
   "metadata": {
    "collapsed": false,
    "deletable": true,
    "editable": true
   },
   "outputs": [],
   "source": [
    "s = np.random.randint(states)\n",
    "a = np.random.randint(2)\n",
    "ls = None\n",
    "la = None\n",
    "s , a"
   ]
  },
  {
   "cell_type": "code",
   "execution_count": null,
   "metadata": {
    "collapsed": false,
    "deletable": true,
    "editable": true
   },
   "outputs": [],
   "source": [
    "gama = 0\n",
    "\n",
    "for i in range(3000):\n",
    "    # update value function\n",
    "    if s>=0 and s<states-1:\n",
    "        world[s,1] = reward + np.average(world[s+1])\n",
    "    if s<=states-1 and s>0:\n",
    "        world[s,0] = reward + np.average(world[s-1])\n",
    "        \n",
    "    # update privious step\n",
    "    if ls:\n",
    "        if ls>=0 and ls<states-1:\n",
    "            world[ls,1] = reward + np.average(world[ls+1])\n",
    "        if ls<=states-1 and ls>0:\n",
    "            world[ls,0] = reward + np.average(world[ls-1])\n",
    "        \n",
    "    # act greedy with random\n",
    "    ls = s\n",
    "    la = a\n",
    "    coin = np.random.randint(500+gama)\n",
    "    if coin < 250:\n",
    "        a = np.argmax(world[s])\n",
    "    else:\n",
    "        a = np.random.randint(2)\n",
    "    if a==0 and s>0:\n",
    "        s-=1\n",
    "    elif a==1 and s<states-1:\n",
    "        s+=1\n",
    "    gama+=1\n",
    "world"
   ]
  },
  {
   "cell_type": "code",
   "execution_count": null,
   "metadata": {
    "collapsed": true,
    "deletable": true,
    "editable": true
   },
   "outputs": [],
   "source": []
  }
 ],
 "metadata": {
  "kernelspec": {
   "display_name": "Python 3",
   "language": "python",
   "name": "python3"
  },
  "language_info": {
   "codemirror_mode": {
    "name": "ipython",
    "version": 3
   },
   "file_extension": ".py",
   "mimetype": "text/x-python",
   "name": "python",
   "nbconvert_exporter": "python",
   "pygments_lexer": "ipython3",
   "version": "3.5.2"
  }
 },
 "nbformat": 4,
 "nbformat_minor": 2
}
