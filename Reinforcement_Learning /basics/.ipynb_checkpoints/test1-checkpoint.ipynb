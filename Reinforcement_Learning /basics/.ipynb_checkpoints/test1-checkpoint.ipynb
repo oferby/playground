{
 "cells": [
  {
   "cell_type": "code",
   "execution_count": 1,
   "metadata": {
    "collapsed": true,
    "deletable": true,
    "editable": true
   },
   "outputs": [],
   "source": [
    "import numpy as np\n",
    "import pandas as pd"
   ]
  },
  {
   "cell_type": "code",
   "execution_count": 295,
   "metadata": {
    "collapsed": false,
    "deletable": true,
    "editable": true
   },
   "outputs": [
    {
     "data": {
      "text/plain": [
       "array([[-100.,    0.],\n",
       "       [   0.,    0.],\n",
       "       [   0.,    0.],\n",
       "       [   0.,    0.],\n",
       "       [   0.,    0.],\n",
       "       [   0.,    0.],\n",
       "       [   0.,    0.],\n",
       "       [   0.,    0.],\n",
       "       [   0.,    0.],\n",
       "       [   0.,  100.]])"
      ]
     },
     "execution_count": 295,
     "metadata": {},
     "output_type": "execute_result"
    }
   ],
   "source": [
    "# state 0 lose, state 9 win\n",
    "states = 10\n",
    "actions = 2\n",
    "reward = -1\n",
    "alfa = 1\n",
    "win = 100\n",
    "lose = -100\n",
    "world = np.zeros((states, actions))\n",
    "world[9,1] = win\n",
    "world[0,0] = lose\n",
    "world"
   ]
  },
  {
   "cell_type": "code",
   "execution_count": 296,
   "metadata": {
    "collapsed": false,
    "deletable": true,
    "editable": true
   },
   "outputs": [
    {
     "data": {
      "text/plain": [
       "(1, 1)"
      ]
     },
     "execution_count": 296,
     "metadata": {},
     "output_type": "execute_result"
    }
   ],
   "source": [
    "s = np.random.randint(10)\n",
    "a = np.random.randint(2)\n",
    "s , a"
   ]
  },
  {
   "cell_type": "code",
   "execution_count": 297,
   "metadata": {
    "collapsed": false
   },
   "outputs": [
    {
     "data": {
      "text/plain": [
       "array([[-100.        ,    0.        ],\n",
       "       [ -51.        ,  -29.5078125 ],\n",
       "       [ -41.25390625,  -20.88382777],\n",
       "       [ -32.06886701,  -10.64573149],\n",
       "       [ -22.35729925,    2.40797336],\n",
       "       [ -10.97466294,   17.94891619],\n",
       "       [   2.48712663,   35.41608947],\n",
       "       [  17.95160805,   54.94370321],\n",
       "       [  35.44765563,   76.48254132],\n",
       "       [  54.96508265,  100.        ]])"
      ]
     },
     "execution_count": 297,
     "metadata": {},
     "output_type": "execute_result"
    }
   ],
   "source": [
    "for i in range(2000):\n",
    "    # update value function\n",
    "    if s>=0 and s<9:\n",
    "        world[s,1] = reward + np.average(world[s+1])\n",
    "    if s<=9 and s>0:\n",
    "        world[s,0] = reward + np.average(world[s-1])\n",
    "\n",
    "    # act greedy with random\n",
    "\n",
    "    coin = np.random.randint(2)\n",
    "    if coin == 1:\n",
    "        a = np.argmax(world[s])\n",
    "    else:\n",
    "        a = np.random.randint(2)\n",
    "    if a==0 and s>0:\n",
    "        s-=1\n",
    "    elif a==1 and s<9:\n",
    "        s+=1\n",
    "world"
   ]
  },
  {
   "cell_type": "code",
   "execution_count": null,
   "metadata": {
    "collapsed": true
   },
   "outputs": [],
   "source": []
  }
 ],
 "metadata": {
  "kernelspec": {
   "display_name": "Python 3",
   "language": "python",
   "name": "python3"
  },
  "language_info": {
   "codemirror_mode": {
    "name": "ipython",
    "version": 3
   },
   "file_extension": ".py",
   "mimetype": "text/x-python",
   "name": "python",
   "nbconvert_exporter": "python",
   "pygments_lexer": "ipython3",
   "version": "3.5.2"
  }
 },
 "nbformat": 4,
 "nbformat_minor": 2
}
