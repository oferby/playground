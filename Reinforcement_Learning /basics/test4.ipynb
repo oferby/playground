{
 "cells": [
  {
   "cell_type": "code",
   "execution_count": 1,
   "metadata": {
    "collapsed": true,
    "deletable": true,
    "editable": true
   },
   "outputs": [],
   "source": [
    "import numpy as np"
   ]
  },
  {
   "cell_type": "code",
   "execution_count": 2,
   "metadata": {
    "collapsed": false,
    "deletable": true,
    "editable": true
   },
   "outputs": [],
   "source": [
    "states = 100\n",
    "actions = 4\n",
    "reward = -1\n",
    "gama = 0\n",
    "world = np.zeros((states, actions))\n",
    "\n",
    "pits = []\n",
    "for i in range(4):\n",
    "    pits.append(np.random.randint(1,99))\n",
    "\n",
    "wins = [0,99]"
   ]
  },
  {
   "cell_type": "code",
   "execution_count": 3,
   "metadata": {
    "collapsed": false,
    "deletable": true,
    "editable": true
   },
   "outputs": [],
   "source": [
    "LEFT = 0\n",
    "RIGHT = 1\n",
    "DOWN = 2\n",
    "UP = 3\n",
    "\n",
    "def get_actions(state):\n",
    "    x = int(state % np.sqrt(states))\n",
    "    y = int(state // np.sqrt(states))\n",
    "    actions=[]\n",
    "    if x > 0:\n",
    "        actions.append(LEFT)\n",
    "        if x < (np.sqrt(states) - 1):\n",
    "            actions.append(RIGHT)        \n",
    "    elif x < (np.sqrt(states) - 1):\n",
    "            actions.append(RIGHT)\n",
    "\n",
    "    if y > 0:\n",
    "        actions.append(DOWN)\n",
    "        if y < (np.sqrt(states) - 1):\n",
    "            actions.append(UP)\n",
    "    elif y < (np.sqrt(states) - 1):\n",
    "            actions.append(UP)\n",
    "    return actions"
   ]
  },
  {
   "cell_type": "code",
   "execution_count": 4,
   "metadata": {
    "collapsed": false,
    "deletable": true,
    "editable": true
   },
   "outputs": [],
   "source": [
    "def get_reward(state, action):\n",
    "    if state in pits:\n",
    "        return -2000\n",
    "    if state in wins:\n",
    "        return 2000\n",
    "    \n",
    "    if action == LEFT:\n",
    "        ns = state - 1\n",
    "    elif action == RIGHT:\n",
    "        ns = state + 1\n",
    "    elif action == DOWN:\n",
    "        ns = state - int(np.sqrt(states))\n",
    "    else:\n",
    "        ns = state + int(np.sqrt(states))\n",
    "    return max(world[ns])"
   ]
  },
  {
   "cell_type": "code",
   "execution_count": 5,
   "metadata": {
    "collapsed": true,
    "deletable": true,
    "editable": true
   },
   "outputs": [],
   "source": [
    "def get_best_feasible_action(state):\n",
    "        found = False\n",
    "        z = get_actions(state)\n",
    "        q = np.copy(world[state])       \n",
    "        while not found:\n",
    "            a = np.argmax(q)\n",
    "            if a not in z:\n",
    "                q[a] = -10000\n",
    "            else:\n",
    "                found = True\n",
    "        return a"
   ]
  },
  {
   "cell_type": "code",
   "execution_count": 6,
   "metadata": {
    "collapsed": false,
    "deletable": true,
    "editable": true
   },
   "outputs": [],
   "source": [
    "def get_next_action(state):\n",
    "    # act greedy with random\n",
    "    coin = np.random.randint(500 + gama)\n",
    "    if coin < 250:\n",
    "        a = get_best_feasible_action(state)\n",
    "    else:\n",
    "        a = actions[np.random.randint(len(actions))]\n",
    "    return a"
   ]
  },
  {
   "cell_type": "code",
   "execution_count": 7,
   "metadata": {
    "collapsed": false,
    "deletable": true,
    "editable": true
   },
   "outputs": [
    {
     "data": {
      "text/plain": [
       "([0, 1, 2, 3], 75)"
      ]
     },
     "execution_count": 7,
     "metadata": {},
     "output_type": "execute_result"
    }
   ],
   "source": [
    "# make sure we start where there is no pit\n",
    "ok = False\n",
    "while not ok:\n",
    "    s = np.random.randint(100)\n",
    "    if s not in pits:\n",
    "        ok = True\n",
    "        actions = get_actions(s)\n",
    "ls = None\n",
    "la = None\n",
    "actions, s"
   ]
  },
  {
   "cell_type": "code",
   "execution_count": 8,
   "metadata": {
    "collapsed": false,
    "deletable": true,
    "editable": true
   },
   "outputs": [],
   "source": [
    "for i in range(2000):\n",
    "    # update value function\n",
    "    actions = get_actions(s)\n",
    "    for a in actions:\n",
    "        world[s,a] = reward + get_reward(s, a)\n",
    "        \n",
    "    # update privious step\n",
    "    if ls:\n",
    "        world[ls,la] = reward + get_reward(ls,la)\n",
    "    \n",
    "    # act greedy\n",
    "    a = get_next_action(s)\n",
    "\n",
    "    ls = s\n",
    "    la = a\n",
    "    \n",
    "    if a == LEFT:\n",
    "        s = s - 1\n",
    "    elif a == RIGHT:\n",
    "        s = s + 1\n",
    "    elif a == DOWN:\n",
    "        s = s - int(np.sqrt(states))\n",
    "    else:\n",
    "        s = s + int(np.sqrt(states))    \n",
    "    gama+=1"
   ]
  },
  {
   "cell_type": "code",
   "execution_count": 9,
   "metadata": {
    "collapsed": false,
    "deletable": true,
    "editable": true
   },
   "outputs": [],
   "source": [
    "#world"
   ]
  },
  {
   "cell_type": "code",
   "execution_count": 10,
   "metadata": {
    "collapsed": false,
    "deletable": true,
    "editable": true
   },
   "outputs": [
    {
     "data": {
      "text/plain": [
       "array([['X', '<', '<', '<', '<', '<', '<', '<', '<', 'V'],\n",
       "       ['^', '<', '<', '<', '<', '<', '<', '<', '<', 'V'],\n",
       "       ['^', '<', '<', '<', '<', '<', '<', '<', 'V', 'V'],\n",
       "       ['^', 'O', '^', '<', '<', '<', '<', 'O', '>', 'V'],\n",
       "       ['^', '<', '<', '<', '<', '<', '>', '>', '>', 'V'],\n",
       "       ['^', '<', '<', '<', '<', '<', '>', '>', '>', 'V'],\n",
       "       ['^', '<', '<', '<', '<', '<', 'V', 'O', '>', 'V'],\n",
       "       ['^', '<', '<', '<', '<', '<', '>', '>', '>', 'V'],\n",
       "       ['^', '<', '<', '<', '<', '<', '>', '>', '>', 'V'],\n",
       "       ['^', '<', '<', '<', '<', '<', '<', '^', 'O', 'X']], \n",
       "      dtype='<U1')"
      ]
     },
     "execution_count": 10,
     "metadata": {},
     "output_type": "execute_result"
    }
   ],
   "source": [
    "board = [\"\" for i in range(100)]\n",
    "\n",
    "for i in range(states):\n",
    "        a = get_best_feasible_action(i)\n",
    "        if a == LEFT:\n",
    "            board[i] = '<'\n",
    "        elif a == RIGHT:\n",
    "            board[i] = '>'\n",
    "        elif a == DOWN:\n",
    "            board[i] = '^'\n",
    "        else:\n",
    "            board[i] = 'V'\n",
    "\n",
    "for p in pits:\n",
    "    board[p] = 'O'\n",
    "board[99] = 'X'\n",
    "board[0] = 'X'\n",
    "board = np.reshape(board, (10,10))\n",
    "\n",
    "\n",
    "board"
   ]
  },
  {
   "cell_type": "code",
   "execution_count": 11,
   "metadata": {
    "collapsed": false,
    "deletable": true,
    "editable": true
   },
   "outputs": [],
   "source": [
    "#world"
   ]
  }
 ],
 "metadata": {
  "kernelspec": {
   "display_name": "Python 3",
   "language": "python",
   "name": "python3"
  },
  "language_info": {
   "codemirror_mode": {
    "name": "ipython",
    "version": 3
   },
   "file_extension": ".py",
   "mimetype": "text/x-python",
   "name": "python",
   "nbconvert_exporter": "python",
   "pygments_lexer": "ipython3",
   "version": "3.5.2"
  }
 },
 "nbformat": 4,
 "nbformat_minor": 2
}
