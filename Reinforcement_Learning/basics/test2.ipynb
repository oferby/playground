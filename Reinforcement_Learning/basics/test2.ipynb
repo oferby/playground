{
 "cells": [
  {
   "cell_type": "code",
   "execution_count": 1,
   "metadata": {
    "collapsed": true,
    "deletable": true,
    "editable": true
   },
   "outputs": [],
   "source": [
    "import numpy as np\n",
    "import pandas as pd"
   ]
  },
  {
   "cell_type": "code",
   "execution_count": 2,
   "metadata": {
    "collapsed": false,
    "deletable": true,
    "editable": true
   },
   "outputs": [
    {
     "data": {
      "text/plain": [
       "array([[-100.,    0.],\n",
       "       [   0.,    0.],\n",
       "       [   0.,    0.],\n",
       "       [   0.,    0.],\n",
       "       [   0.,    0.],\n",
       "       [   0.,    0.],\n",
       "       [   0.,    0.],\n",
       "       [   0.,    0.],\n",
       "       [   0.,    0.],\n",
       "       [   0.,  100.]])"
      ]
     },
     "execution_count": 2,
     "metadata": {},
     "output_type": "execute_result"
    }
   ],
   "source": [
    "# state 0 lose, state 9 win\n",
    "states = 10\n",
    "actions = 2\n",
    "reward = -1\n",
    "alfa = 1\n",
    "win = 100\n",
    "lose = -100\n",
    "world = np.zeros((states, actions))\n",
    "world[9,1] = win\n",
    "world[0,0] = lose\n",
    "world"
   ]
  },
  {
   "cell_type": "code",
   "execution_count": 3,
   "metadata": {
    "collapsed": false,
    "deletable": true,
    "editable": true
   },
   "outputs": [
    {
     "data": {
      "text/plain": [
       "(4, 0)"
      ]
     },
     "execution_count": 3,
     "metadata": {},
     "output_type": "execute_result"
    }
   ],
   "source": [
    "s = np.random.randint(10)\n",
    "a = np.random.randint(2)\n",
    "s , a"
   ]
  },
  {
   "cell_type": "code",
   "execution_count": 4,
   "metadata": {
    "collapsed": false,
    "deletable": true,
    "editable": true
   },
   "outputs": [
    {
     "data": {
      "text/plain": [
       "array([[-100.        ,  -43.57177734],\n",
       "       [ -72.78588867,  -16.71484375],\n",
       "       [ -45.75036621,   -3.34375   ],\n",
       "       [ -25.54705811,   -3.6875    ],\n",
       "       [ -15.61727905,    3.01498794],\n",
       "       [  -7.30114555,   18.27611542],\n",
       "       [   4.48748493,   36.09558564],\n",
       "       [  19.29153529,   54.9487735 ],\n",
       "       [  36.12015439,   76.47186461],\n",
       "       [  55.2960095 ,  100.        ]])"
      ]
     },
     "execution_count": 4,
     "metadata": {},
     "output_type": "execute_result"
    }
   ],
   "source": [
    "gama = 0\n",
    "\n",
    "for i in range(300):\n",
    "    # update value function\n",
    "    if s>=0 and s<9:\n",
    "        world[s,1] = reward + np.average(world[s+1])\n",
    "    if s<=9 and s>0:\n",
    "        world[s,0] = reward + np.average(world[s-1])\n",
    "\n",
    "    # act greedy with random\n",
    "    \n",
    "    coin = np.random.randint(100+gama)\n",
    "    if coin < 50:\n",
    "        a = np.argmax(world[s])\n",
    "    else:\n",
    "        a = np.random.randint(2)\n",
    "    if a==0 and s>0:\n",
    "        s-=1\n",
    "    elif a==1 and s<9:\n",
    "        s+=1\n",
    "    gama+=1\n",
    "world"
   ]
  },
  {
   "cell_type": "code",
   "execution_count": null,
   "metadata": {
    "collapsed": true,
    "deletable": true,
    "editable": true
   },
   "outputs": [],
   "source": []
  }
 ],
 "metadata": {
  "kernelspec": {
   "display_name": "Python 3",
   "language": "python",
   "name": "python3"
  },
  "language_info": {
   "codemirror_mode": {
    "name": "ipython",
    "version": 3
   },
   "file_extension": ".py",
   "mimetype": "text/x-python",
   "name": "python",
   "nbconvert_exporter": "python",
   "pygments_lexer": "ipython3",
   "version": "3.5.2"
  }
 },
 "nbformat": 4,
 "nbformat_minor": 2
}
