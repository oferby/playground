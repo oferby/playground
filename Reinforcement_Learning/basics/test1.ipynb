{
 "cells": [
  {
   "cell_type": "code",
   "execution_count": 1,
   "metadata": {
    "collapsed": true,
    "deletable": true,
    "editable": true
   },
   "outputs": [],
   "source": [
    "import numpy as np\n",
    "import pandas as pd"
   ]
  },
  {
   "cell_type": "code",
   "execution_count": 2,
   "metadata": {
    "collapsed": false,
    "deletable": true,
    "editable": true
   },
   "outputs": [
    {
     "data": {
      "text/plain": [
       "array([[-100.,    0.],\n",
       "       [   0.,    0.],\n",
       "       [   0.,    0.],\n",
       "       [   0.,    0.],\n",
       "       [   0.,    0.],\n",
       "       [   0.,    0.],\n",
       "       [   0.,    0.],\n",
       "       [   0.,    0.],\n",
       "       [   0.,    0.],\n",
       "       [   0.,  100.]])"
      ]
     },
     "execution_count": 2,
     "metadata": {},
     "output_type": "execute_result"
    }
   ],
   "source": [
    "# state 0 lose, state 9 win\n",
    "states = 10\n",
    "actions = 2\n",
    "reward = -1\n",
    "alfa = 1\n",
    "win = 100\n",
    "lose = -100\n",
    "world = np.zeros((states, actions))\n",
    "world[9,1] = win\n",
    "world[0,0] = lose\n",
    "world"
   ]
  },
  {
   "cell_type": "code",
   "execution_count": 3,
   "metadata": {
    "collapsed": false,
    "deletable": true,
    "editable": true
   },
   "outputs": [
    {
     "data": {
      "text/plain": [
       "(3, 1)"
      ]
     },
     "execution_count": 3,
     "metadata": {},
     "output_type": "execute_result"
    }
   ],
   "source": [
    "s = np.random.randint(10)\n",
    "a = np.random.randint(2)\n",
    "s , a"
   ]
  },
  {
   "cell_type": "code",
   "execution_count": 4,
   "metadata": {
    "collapsed": true
   },
   "outputs": [],
   "source": [
    "s = 8\n",
    "a = 1"
   ]
  },
  {
   "cell_type": "code",
   "execution_count": 5,
   "metadata": {
    "collapsed": false,
    "deletable": true,
    "editable": true
   },
   "outputs": [
    {
     "data": {
      "text/plain": [
       "array([[-100.        ,    0.        ],\n",
       "       [   0.        ,    0.        ],\n",
       "       [  -1.        ,    2.74602744],\n",
       "       [  -0.12698628,    8.49205488],\n",
       "       [   3.1825343 ,   16.41646458],\n",
       "       [   8.79949944,   29.1210581 ],\n",
       "       [  17.96027877,   44.4001825 ],\n",
       "       [  30.18023063,   61.01952878],\n",
       "       [  44.5998797 ,   79.53314505],\n",
       "       [  61.06651238,  100.        ]])"
      ]
     },
     "execution_count": 5,
     "metadata": {},
     "output_type": "execute_result"
    }
   ],
   "source": [
    "for i in range(3000):\n",
    "    # update value function\n",
    "    if s>=0 and s<9:\n",
    "        world[s,1] = reward + np.average(world[s+1])\n",
    "    if s<=9 and s>0:\n",
    "        world[s,0] = reward + np.average(world[s-1])\n",
    "\n",
    "    # act greedy with random\n",
    "\n",
    "    coin = np.random.randint(2)\n",
    "    if coin == 1:\n",
    "        a = np.argmax(world[s])\n",
    "    else:\n",
    "        a = np.random.randint(2)\n",
    "    if a==0 and s>0:\n",
    "        s-=1\n",
    "    elif a==1 and s<9:\n",
    "        s+=1\n",
    "world"
   ]
  },
  {
   "cell_type": "code",
   "execution_count": null,
   "metadata": {
    "collapsed": true,
    "deletable": true,
    "editable": true
   },
   "outputs": [],
   "source": []
  }
 ],
 "metadata": {
  "kernelspec": {
   "display_name": "Python 3",
   "language": "python",
   "name": "python3"
  },
  "language_info": {
   "codemirror_mode": {
    "name": "ipython",
    "version": 3
   },
   "file_extension": ".py",
   "mimetype": "text/x-python",
   "name": "python",
   "nbconvert_exporter": "python",
   "pygments_lexer": "ipython3",
   "version": "3.5.2"
  }
 },
 "nbformat": 4,
 "nbformat_minor": 2
}
